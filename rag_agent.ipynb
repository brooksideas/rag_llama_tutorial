{
 "cells": [
  {
   "cell_type": "markdown",
   "metadata": {},
   "source": [
    "## This is the tutorial from the llama Index official docs"
   ]
  },
  {
   "cell_type": "markdown",
   "metadata": {},
   "source": [
    "#### The defualt Global Setting"
   ]
  },
  {
   "cell_type": "code",
   "execution_count": null,
   "metadata": {},
   "outputs": [
    {
     "name": "stderr",
     "output_type": "stream",
     "text": [
      "/home/brooks/rag_llama_index/.venv/lib/python3.10/site-packages/tqdm/auto.py:21: TqdmWarning: IProgress not found. Please update jupyter and ipywidgets. See https://ipywidgets.readthedocs.io/en/stable/user_install.html\n",
      "  from .autonotebook import tqdm as notebook_tqdm\n"
     ]
    }
   ],
   "source": [
    "from llama_index.core import Settings\n",
    "from llama_index.llms.ollama import Ollama\n",
    "from llama_index.embeddings.huggingface import HuggingFaceEmbedding\n",
    "\n",
    "Settings.llm = Ollama(model=\"llama3.2\", request_timeout=60.0)\n",
    "Settings.embed_model = HuggingFaceEmbedding(\n",
    "    model_name=\"BAAI/bge-small-en-v1.5\"\n",
    ") # loads BAAI/bge-small-en-v1.5 as the default embedding model instead of Open-AI"
   ]
  },
  {
   "cell_type": "markdown",
   "metadata": {},
   "source": [
    "#### 1. Ingestion pipeline typically consists of three main stages:\n",
    "\n",
    "1. Load the data\n",
    "2. Transform the data\n",
    "3. Index and store the data"
   ]
  },
  {
   "cell_type": "markdown",
   "metadata": {},
   "source": [
    "### 1.1 Loading using SimpleDirectoryReader "
   ]
  },
  {
   "cell_type": "code",
   "execution_count": 3,
   "metadata": {},
   "outputs": [],
   "source": [
    "from llama_index.core import SimpleDirectoryReader\n",
    "\n",
    "documents = SimpleDirectoryReader(\"./data\").load_data()"
   ]
  },
  {
   "cell_type": "markdown",
   "metadata": {},
   "source": [
    "### 1.2 Transform the data \n",
    "\n",
    "Transformations include chunking, extracting metadata, and embedding each chunk.\n",
    "\n",
    "This is necessary to make sure that the data can be retrieved, and used optimally by the LLM."
   ]
  },
  {
   "cell_type": "markdown",
   "metadata": {},
   "source": [
    "#### High-Level Transformation API"
   ]
  },
  {
   "cell_type": "code",
   "execution_count": null,
   "metadata": {},
   "outputs": [
    {
     "data": {
      "text/plain": [
       "<llama_index.core.query_engine.retriever_query_engine.RetrieverQueryEngine at 0x7fde5a11d780>"
      ]
     },
     "execution_count": 8,
     "metadata": {},
     "output_type": "execute_result"
    }
   ],
   "source": [
    "from llama_index.core import VectorStoreIndex\n",
    "\n",
    "vector_index = VectorStoreIndex.from_documents(documents)\n",
    "vector_index.as_query_engine()  # uses BAAI/bge-small-en-v1.5 or whatever is set on the settings default"
   ]
  },
  {
   "cell_type": "markdown",
   "metadata": {},
   "source": [
    "#### Lower-Level Transformation API"
   ]
  },
  {
   "cell_type": "markdown",
   "metadata": {},
   "source": [
    "##### Splitting Your Documents into Nodes"
   ]
  },
  {
   "cell_type": "code",
   "execution_count": null,
   "metadata": {},
   "outputs": [],
   "source": [
    "from llama_index.core import SimpleDirectoryReader\n",
    "from llama_index.core.ingestion import IngestionPipeline\n",
    "from llama_index.core.node_parser import TokenTextSplitter\n",
    "\n",
    "documents = SimpleDirectoryReader(\"./data\").load_data()\n",
    "\n",
    "# https://docs.llamaindex.ai/en/stable/module_guides/loading/node_parsers/modules/#tokentextsplitter\n",
    "pipeline = IngestionPipeline(transformations=[TokenTextSplitter()])\n",
    "\n",
    "nodes = pipeline.run(documents=documents)\n",
    "\n",
    "nodes  # If you see the text section of each node it is splitting it per page "
   ]
  },
  {
   "cell_type": "markdown",
   "metadata": {},
   "source": [
    "##### Adding Metadata"
   ]
  },
  {
   "cell_type": "code",
   "execution_count": null,
   "metadata": {},
   "outputs": [
    {
     "data": {
      "text/plain": [
       "{'page_label': '1',\n",
       " 'file_name': '2023_canadian_budget.pdf',\n",
       " 'file_path': '/home/brooks/rag_llama_index/rag_llama_tutorial/data/2023_canadian_budget.pdf',\n",
       " 'file_type': 'application/pdf',\n",
       " 'file_size': 376126,\n",
       " 'creation_date': '2024-11-05',\n",
       " 'last_modified_date': '2024-11-05',\n",
       " 'document_title': 'Based on the provided context, I would suggest the following comprehensive title:\\n\\n\"Key Components and Measures of the 2023 Canadian Federal Budget\"\\n\\nThis title accurately captures the essence of the context, highlighting the unique entities (e.g., budget, government, Prime Minister), themes (e.g., policy objectives, investments in green growth, dental care program), and other relevant information. It is clear, concise, and informative, making it suitable for a document that aims to provide an overview of the 2023 Canadian Federal Budget.',\n",
       " 'questions_this_excerpt_can_answer': \"Based on the provided context, here are three questions with specific answers that are unlikely to be found elsewhere:\\n\\n1. What was a notable aspect of the 2023 Canadian federal budget's emphasis on promoting green growth, in light of Canada's relationship with its southern neighbor?\\n\\nAnswer: The budget included $20B for a new 15% refundable tax credit to promote investment in green technologies.\\n\\n2. How much funding was allocated by the budget for the implementation of a means-tested dental care program, which originated from the NDP-Liberal deal of 2022?\\n\\nAnswer: $13B was allocated for the implementation of the means-tested dental care program.\\n\\n3. What milestone did the budget achieve on June 22, 2023, marking the completion of its passage through Parliament?\\n\\nAnswer: All parts of the budget received Royal assent on June 22, 2023, and became law.\\n\\nThese questions tap into specific details within the context that are not easily found elsewhere, highlighting the budget's focus on green growth, dental care, and its legislative milestones.\"}"
      ]
     },
     "execution_count": 18,
     "metadata": {},
     "output_type": "execute_result"
    }
   ],
   "source": [
    "nodes[0].metadata\n",
    "\n",
    "### OUTPUTS \n",
    "metadata={\n",
    "    'page_label': '1',\n",
    "     'file_name': '2023_canadian_budget.pdf',\n",
    "     'file_path': '/home/brooks/rag_llama_index/rag_llama_tutorial/data/2023_canadian_budget.pdf',\n",
    "     'file_type': 'application/pdf',\n",
    "     'file_size': 376126,\n",
    "     'creation_date': '2024-11-05',\n",
    "     'last_modified_date': '2024-11-05'\n",
    "     }"
   ]
  },
  {
   "cell_type": "code",
   "execution_count": null,
   "metadata": {},
   "outputs": [],
   "source": [
    "import asyncio # This is an asyncio case\n",
    "\n",
    "### These are the MetaData Extractors \n",
    "from llama_index.core.extractors import (\n",
    "    TitleExtractor,\n",
    "    QuestionsAnsweredExtractor,\n",
    ")\n",
    "from llama_index.core.node_parser import TokenTextSplitter\n",
    "\n",
    "text_splitter = TokenTextSplitter(\n",
    "    separator=\" \", chunk_size=512, chunk_overlap=128\n",
    ")\n",
    "title_extractor = TitleExtractor(nodes=4)\n",
    "qa_extractor = QuestionsAnsweredExtractor(questions=3)\n",
    "\n",
    "from llama_index.core.ingestion import IngestionPipeline\n",
    "\n",
    "pipeline = IngestionPipeline(\n",
    "    transformations=[text_splitter, title_extractor, qa_extractor]\n",
    ")\n",
    "\n",
    "# Use 'await' to run the asynchronous 'arun' method\n",
    "nodes = await pipeline.arun(\n",
    "    documents=documents,\n",
    "    in_place=True,\n",
    "    show_progress=True,\n",
    ")\n",
    "\n",
    "nodes"
   ]
  },
  {
   "cell_type": "code",
   "execution_count": null,
   "metadata": {},
   "outputs": [
    {
     "data": {
      "text/plain": [
       "{'page_label': '1',\n",
       " 'file_name': '2023_canadian_budget.pdf',\n",
       " 'file_path': '/home/brooks/rag_llama_index/rag_llama_tutorial/data/2023_canadian_budget.pdf',\n",
       " 'file_type': 'application/pdf',\n",
       " 'file_size': 376126,\n",
       " 'creation_date': '2024-11-05',\n",
       " 'last_modified_date': '2024-11-05',\n",
       " 'document_title': 'Based on the provided context, I would suggest the following comprehensive title:\\n\\n\"Key Components and Measures of the 2023 Canadian Federal Budget\"\\n\\nThis title accurately captures the essence of the context, highlighting the unique entities (e.g., budget, government, Prime Minister), themes (e.g., policy objectives, investments in green growth, dental care program), and other relevant information. It is clear, concise, and informative, making it suitable for a document that aims to provide an overview of the 2023 Canadian Federal Budget.',\n",
       " 'questions_this_excerpt_can_answer': 'Based on the provided context, here are three potential questions with specific answers that are unlikely to be found elsewhere:\\n\\n1. What is the estimated total amount of net new spending in the 2023 Canadian Federal Budget over a six-year period?\\n\\nAnswer: $43B\\n\\n2. How much funding was allocated for a means-tested dental care program as part of the budget, and when did its rollout begin?\\n\\nAnswer: $13B, with the Canadian Dental Care Plan beginning rollout in December 2023.\\n\\n3. What is the amount of the new tax on stock buybacks introduced by Freeland as part of the budget, and what percentage increase was seen in funding for Canada Student Grants?\\n\\nAnswer: A new tax of 2% on stock buybacks, with a 40% increase in funding for Canada Student Grants.\\n\\nThese questions are specific to the context provided and are unlikely to be found elsewhere. They require careful reading and analysis of the text to arrive at the correct answers.'}"
      ]
     },
     "execution_count": 16,
     "metadata": {},
     "output_type": "execute_result"
    }
   ],
   "source": [
    "nodes[1].metadata  # Includes the document_title and question_this_excerpt_can_answer"
   ]
  },
  {
   "cell_type": "markdown",
   "metadata": {},
   "source": [
    "##### Adding Embeddings"
   ]
  },
  {
   "cell_type": "code",
   "execution_count": null,
   "metadata": {},
   "outputs": [
    {
     "data": {
      "text/plain": [
       "384"
      ]
     },
     "execution_count": 26,
     "metadata": {},
     "output_type": "execute_result"
    }
   ],
   "source": [
    "embedding_test = Settings.embed_model.get_text_embedding(\n",
    "    \"It is raining cats and dogs here!\"\n",
    ")\n",
    "# https://huggingface.co/BAAI/bge-small-en-v1.5   it is 384 dimensions here \n",
    "len(embedding_test)"
   ]
  },
  {
   "cell_type": "markdown",
   "metadata": {},
   "source": [
    "##### 1.3 Embedding Stored in VectorStoreIndex using pipeline"
   ]
  },
  {
   "cell_type": "markdown",
   "metadata": {},
   "source": [
    "##### Qdrant Vector Store Implementation"
   ]
  },
  {
   "cell_type": "code",
   "execution_count": null,
   "metadata": {},
   "outputs": [],
   "source": [
    "# Make sure all the dependencies have been installed"
   ]
  },
  {
   "cell_type": "code",
   "execution_count": 65,
   "metadata": {},
   "outputs": [
    {
     "name": "stderr",
     "output_type": "stream",
     "text": [
      "Parsing nodes: 100%|██████████| 4/4 [00:00<00:00, 189.20it/s]\n",
      "100%|██████████| 2/2 [00:02<00:00,  1.15s/it]\n",
      "100%|██████████| 1/1 [00:01<00:00,  1.46s/it]\n",
      "100%|██████████| 3/3 [00:03<00:00,  1.07s/it]\n",
      "100%|██████████| 2/2 [00:02<00:00,  1.49s/it]\n",
      "100%|██████████| 8/8 [00:19<00:00,  2.42s/it]\n"
     ]
    }
   ],
   "source": [
    "import asyncio # This is an asyncio case\n",
    "\n",
    "### These are the MetaData Extractors \n",
    "from llama_index.core.extractors import (\n",
    "    TitleExtractor,\n",
    "    QuestionsAnsweredExtractor,\n",
    ")\n",
    "# Text splitter for the document \n",
    "from llama_index.core.node_parser import TokenTextSplitter\n",
    "# The Ingestion pipeline \n",
    "from llama_index.core.ingestion import IngestionPipeline\n",
    "\n",
    "# Vector store to store our low level created embeddings \n",
    "from llama_index.vector_stores.qdrant import QdrantVectorStore\n",
    "\n",
    "import qdrant_client \n",
    "\n",
    "from llama_index.core import VectorStoreIndex\n",
    "\n",
    "# you can use :memory: mode for fast and light-weight experiments, No deployment req.\n",
    "client = qdrant_client.QdrantClient(location=\":memory:\")\n",
    "vector_qdrant_store = QdrantVectorStore(client=client, collection_name=\"test_store\")\n",
    "\n",
    "text_splitter = TokenTextSplitter(\n",
    "    separator=\" \", chunk_size=512, chunk_overlap=128\n",
    ")\n",
    "title_extractor = TitleExtractor(nodes=4)\n",
    "qa_extractor = QuestionsAnsweredExtractor(questions=3)\n",
    "\n",
    "\n",
    "\n",
    "pipeline = IngestionPipeline(\n",
    "    name=\"ETL and Qdrant Store pipeline\",\n",
    "    transformations=[text_splitter, title_extractor, qa_extractor],\n",
    "    vector_store=vector_qdrant_store\n",
    ")\n",
    "\n",
    "# Use 'await' to run the asynchronous 'arun' method\n",
    "low_level_nodes = await pipeline.arun(\n",
    "    documents=documents,\n",
    "    in_place=True,\n",
    "    show_progress=True,\n",
    ")\n",
    "\n",
    "qdrant_stored_index = VectorStoreIndex.from_vector_store(vector_qdrant_store)"
   ]
  },
  {
   "cell_type": "markdown",
   "metadata": {},
   "source": [
    "##### View the Indices stored in Low-level API custom stored"
   ]
  },
  {
   "cell_type": "code",
   "execution_count": 29,
   "metadata": {},
   "outputs": [
    {
     "name": "stdout",
     "output_type": "stream",
     "text": [
      "777fa0de-3357-4759-8a79-b2699ab789eb\n",
      "334f722a-fa7f-44e9-b8ab-0cecf2f62166\n",
      "b27e25df-bc1b-4de1-906b-16bc744cbf60\n",
      "ed4dec14-e665-4f9b-af28-0d12904c006f\n",
      "fa9ea975-db7a-49db-b011-d7d972eb46a1\n",
      "aa18f65d-a700-4a33-a926-b320173000a1\n",
      "0f4d7d4a-1450-4426-ac01-2401590d3504\n",
      "6197071e-0d55-467c-921f-87e74e32f193\n"
     ]
    }
   ],
   "source": [
    "# Print the Nodes Directly\n",
    "for node in low_level_nodes:\n",
    "    print(node.id_)"
   ]
  },
  {
   "cell_type": "code",
   "execution_count": null,
   "metadata": {},
   "outputs": [
    {
     "name": "stdout",
     "output_type": "stream",
     "text": [
      "Node ID: 777fa0de-3357-4759-8a79-b2699ab789eb\n",
      "Text: ‹ 2022 2024›2023 budget of the Canadian federal government\n",
      "Submitted 28 March 2023 Presented 28 March 2023 Parliament 44th Party\n",
      "Liberal Finance ministerChrystia Freeland Total revenue$456.8 billion\n",
      "(projected) Total expenditures$496.9 billion (projected) Deﬁcit $40.1\n",
      "billion (projected)[ 1 ] GDP TBA Website 2023 Budget (http\n",
      "s://www.budget.can ...\n"
     ]
    }
   ],
   "source": [
    "print(qdrant_stored_index._get_node_with_embedding(low_level_nodes)[0])  # Displaying only the first index (you can see the node id above as well)"
   ]
  },
  {
   "cell_type": "markdown",
   "metadata": {},
   "source": [
    "##### See what has been by the high level Transformation API   "
   ]
  },
  {
   "cell_type": "code",
   "execution_count": 42,
   "metadata": {},
   "outputs": [
    {
     "name": "stdout",
     "output_type": "stream",
     "text": [
      "6e9143f6-288e-449b-99fc-bfed45757dae\n",
      "6d57812b-c448-44ae-a6b7-a29d47483251\n",
      "9bd1528a-a1bd-4a16-87f4-6b21e9f96abc\n",
      "072dd4bb-f8fb-4c66-9c7b-ba4305e7cc0d\n",
      "82210f6a-132d-47eb-b32d-bb3d3bd48c9c\n",
      "b1d85874-f0e1-45be-93ef-cd389445cba6\n",
      "13ad8f3d-d0ee-4dc9-946f-25749c9d470b\n",
      "1eb9f8e6-e44a-4092-baee-53cdf46a4ceb\n"
     ]
    }
   ],
   "source": [
    "# Print the Nodes Directly\n",
    "for node in nodes:\n",
    "    print(node.id_)"
   ]
  },
  {
   "cell_type": "code",
   "execution_count": 41,
   "metadata": {},
   "outputs": [
    {
     "name": "stdout",
     "output_type": "stream",
     "text": [
      "Node ID: 6e9143f6-288e-449b-99fc-bfed45757dae\n",
      "Text: ‹ 2022 2024›2023 budget of the Canadian federal government\n",
      "Submitted 28 March 2023 Presented 28 March 2023 Parliament 44th Party\n",
      "Liberal Finance ministerChrystia Freeland Total revenue$456.8 billion\n",
      "(projected) Total expenditures$496.9 billion (projected) Deﬁcit $40.1\n",
      "billion (projected)[ 1 ] GDP TBA Website 2023 Budget (http\n",
      "s://www.budget.can ...\n"
     ]
    }
   ],
   "source": [
    "print(vector_index._get_node_with_embedding(nodes)[0])"
   ]
  },
  {
   "cell_type": "markdown",
   "metadata": {},
   "source": [
    "#### 1.3.1 Querying "
   ]
  },
  {
   "cell_type": "markdown",
   "metadata": {},
   "source": [
    "##### Create a Simple QueryEngine using the index"
   ]
  },
  {
   "cell_type": "code",
   "execution_count": null,
   "metadata": {},
   "outputs": [
    {
     "name": "stdout",
     "output_type": "stream",
     "text": [
      "$43 billion.\n"
     ]
    }
   ],
   "source": [
    "high_query_engine = vector_index.as_query_engine()\n",
    "response = high_query_engine.query(\"What is the estimated total amount of net new spending in the 2023 Canadian Federal Budget over a six-year period?\") \n",
    "print(response)"
   ]
  },
  {
   "cell_type": "markdown",
   "metadata": {},
   "source": [
    "#### 1.3.2 Store with Storage Context  "
   ]
  },
  {
   "cell_type": "code",
   "execution_count": 56,
   "metadata": {},
   "outputs": [
    {
     "name": "stdout",
     "output_type": "stream",
     "text": [
      "The 2023 Canadian federal budget was presented to the House of Commons by Finance Minister Chrystia Freeland on 28 March 2023. It aims to \"make life more affordable for Canadians\" while reducing government expenditures and promoting Green growth, in line with Prime Minister Justin Trudeau's policy objectives.\n"
     ]
    }
   ],
   "source": [
    "import chromadb\n",
    "from llama_index.core import VectorStoreIndex , SimpleDirectoryReader\n",
    "from llama_index.vector_stores.chroma import ChromaVectorStore\n",
    "from llama_index.core import StorageContext\n",
    "\n",
    "# load some documents\n",
    "documents = SimpleDirectoryReader(\"./data\").load_data()\n",
    "\n",
    "# initialize client, setting path to save data\n",
    "db = chromadb.PersistentClient(path=\"./db/chroma_db\")\n",
    "\n",
    "# create collection\n",
    "chroma_collection = db.get_or_create_collection(\"quickstart\")\n",
    "\n",
    "# assign chroma as the vector_store to the context\n",
    "vector_store = ChromaVectorStore(chroma_collection=chroma_collection)\n",
    "storage_context = StorageContext.from_defaults(vector_store=vector_store)\n",
    "\n",
    "# create your index\n",
    "index = VectorStoreIndex.from_documents(\n",
    "    documents, storage_context=storage_context\n",
    ")\n",
    "\n",
    "# create a query engine and query\n",
    "chroma_query_engine = index.as_query_engine()\n",
    "response = chroma_query_engine.query(\"What is the 2023 Canadian Federal Budget?\")\n",
    "print(response)"
   ]
  },
  {
   "cell_type": "markdown",
   "metadata": {},
   "source": [
    "#### 2. Building an agent "
   ]
  },
  {
   "cell_type": "markdown",
   "metadata": {},
   "source": [
    "##### Create a basic tool"
   ]
  },
  {
   "cell_type": "code",
   "execution_count": 49,
   "metadata": {},
   "outputs": [],
   "source": [
    "from llama_index.core.tools import FunctionTool\n",
    "\n",
    "def multiply(a: float, b: float) -> float:\n",
    "    \"\"\"Multiply two numbers and returns the product\"\"\"\n",
    "    return a * b\n",
    "\n",
    "\n",
    "multiply_tool = FunctionTool.from_defaults(fn=multiply)\n",
    "\n",
    "\n",
    "def add(a: float, b: float) -> float:\n",
    "    \"\"\"Add two numbers and returns the sum\"\"\"\n",
    "    return a + b\n",
    "\n",
    "\n",
    "add_tool = FunctionTool.from_defaults(fn=add)"
   ]
  },
  {
   "cell_type": "code",
   "execution_count": 51,
   "metadata": {},
   "outputs": [
    {
     "data": {
      "text/plain": [
       "12"
      ]
     },
     "execution_count": 51,
     "metadata": {},
     "output_type": "execute_result"
    }
   ],
   "source": [
    "# Test \n",
    "multiply(4,3)"
   ]
  },
  {
   "cell_type": "markdown",
   "metadata": {},
   "source": [
    "##### Initialize the LLM"
   ]
  },
  {
   "cell_type": "code",
   "execution_count": 53,
   "metadata": {},
   "outputs": [],
   "source": [
    "llm = Settings.llm  # We are using the default which is llama3.2"
   ]
  },
  {
   "cell_type": "markdown",
   "metadata": {},
   "source": [
    "##### Initialize an existing small yet powerful ReAct Agent "
   ]
  },
  {
   "cell_type": "code",
   "execution_count": 54,
   "metadata": {},
   "outputs": [],
   "source": [
    "from llama_index.core.agent import ReActAgent\n",
    "agent = ReActAgent.from_tools([multiply_tool, add_tool], llm=llm, verbose=True)"
   ]
  },
  {
   "cell_type": "markdown",
   "metadata": {},
   "source": [
    "##### Ask a Question for the Agent to respond "
   ]
  },
  {
   "cell_type": "code",
   "execution_count": 55,
   "metadata": {},
   "outputs": [
    {
     "name": "stdout",
     "output_type": "stream",
     "text": [
      "> Running step d6a9093f-0737-4cbc-a2ab-2a35501cf516. Step input: What is 20+(2*4)? Use a tool to calculate every step.\n",
      "\u001b[1;3;38;5;200mThought: The current language of the user is: English. I need to use a tool to help me answer the question.\n",
      "Action: multiply\n",
      "Action Input: {'a': 2, 'b': 4}\n",
      "\u001b[0m\u001b[1;3;34mObservation: 8\n",
      "\u001b[0m> Running step ce248c4d-17a4-48b0-8e81-0c5273a20fd5. Step input: None\n",
      "\u001b[1;3;38;5;200mThought: The current expression after multiplication is now: 20 + 8. I need to use another tool to add these numbers together.\n",
      "Action: add\n",
      "Action Input: {'input': 20, 'a': 8}\n",
      "\u001b[0m\u001b[1;3;34mObservation: Error: add() got an unexpected keyword argument 'input'\n",
      "\u001b[0m> Running step c37d670c-69f5-414f-be50-9c80957cdee9. Step input: None\n",
      "\u001b[1;3;38;5;200mThought: The current language of the user is still English. It seems like the tool I used to add numbers together requires only two arguments, but I provided a third one named \"input\". I need to adjust my input to use the correct keywords.\n",
      "Action: add\n",
      "Action Input: {'a': 20, 'b': 8}\n",
      "\u001b[0m\u001b[1;3;34mObservation: 28\n",
      "\u001b[0m> Running step 5e9040ab-b9cc-4ad8-a285-36dd0c3f55da. Step input: None\n",
      "\u001b[1;3;38;5;200mThought: The current result after addition is indeed 28. The expression has been fully evaluated. I can now provide the final answer in English.\n",
      "Answer: 28\n",
      "\u001b[0m"
     ]
    }
   ],
   "source": [
    "response = agent.chat(\"What is 20+(2*4)? Use a tool to calculate every step.\")"
   ]
  },
  {
   "cell_type": "markdown",
   "metadata": {},
   "source": [
    "#### Adding RAG to the Agent"
   ]
  },
  {
   "cell_type": "markdown",
   "metadata": {},
   "source": [
    "##### Using the High level API to create the query Engine Tool"
   ]
  },
  {
   "cell_type": "code",
   "execution_count": 58,
   "metadata": {},
   "outputs": [],
   "source": [
    "from llama_index.core.tools import QueryEngineTool\n",
    "high_budget_tool = QueryEngineTool.from_defaults(\n",
    "    high_query_engine,\n",
    "    name=\"high_canadian_budget_2023\",\n",
    "    description=\"A RAG engine with some basic facts about the 2023 Canadian federal budget using High Level API\",\n",
    ")"
   ]
  },
  {
   "cell_type": "markdown",
   "metadata": {},
   "source": [
    "##### Pass all the methods to the ReAct Agent"
   ]
  },
  {
   "cell_type": "code",
   "execution_count": 59,
   "metadata": {},
   "outputs": [],
   "source": [
    "high_react_agent = ReActAgent.from_tools(\n",
    "    [multiply_tool, add_tool, high_budget_tool], verbose=True\n",
    ")"
   ]
  },
  {
   "cell_type": "code",
   "execution_count": 60,
   "metadata": {},
   "outputs": [
    {
     "name": "stdout",
     "output_type": "stream",
     "text": [
      "> Running step b6d0afea-6cd2-4231-a50f-88ef0f149349. Step input: What is the total amount of the 2023 Canadian federal budget multiplied by 3? Go step by step, using a tool to do any math.\n",
      "\u001b[1;3;38;5;200mThought: The user wants me to perform some calculations on the 2023 Canadian federal budget, so I need to use a tool to get the details of the budget first.\n",
      "Action: high_canadian_budget_2023\n",
      "Action Input: {'input': '2023 Canadian federal budget', 'num_beams': 5}\n",
      "\u001b[0m\u001b[1;3;34mObservation: The 2023 Canadian federal budget was presented by Finance Minister Chrystia Freeland on March 28, 2023, with a projected deficit of $40.1 billion. The budget aimed to make life more affordable for Canadians while reducing government expenditures, following Prime Minister Justin Trudeau's policy objective.\n",
      "\u001b[0m> Running step be342bdb-5740-4ddc-ab36-096351704cd3. Step input: None\n",
      "\u001b[1;3;38;5;200mThought: Now that I have the details of the Canadian federal budget, I need to find out what the total amount is in order to perform the requested calculation.\n",
      "Action: add\n",
      "Action Input: {'a': 40.1, 'b': 400000000}\n",
      "\u001b[0m\u001b[1;3;34mObservation: 400000040.1\n",
      "\u001b[0m> Running step 68d3d252-003d-421b-bed4-c0ca2fb7da70. Step input: None\n",
      "\u001b[1;3;38;5;200mThought: Now that I have the total amount of the Canadian federal budget, I can multiply it by 3 to get the final answer.\n",
      "Action: multiply\n",
      "Action Input: {'a': 400000040.1, 'b': 3}\n",
      "\u001b[0m\u001b[1;3;34mObservation: 1200000120.3000002\n",
      "\u001b[0m> Running step ccc49ace-f570-4fa9-a0d6-276a241b7fd3. Step input: None\n",
      "\u001b[1;3;38;5;200mThought: Now that I have the result of multiplying the total Canadian federal budget by 3, I can provide the answer to the user.\n",
      "Answer: The total amount of the 2023 Canadian federal budget multiplied by 3 is $1,200,001,120.30.\n",
      "\u001b[0mThe total amount of the 2023 Canadian federal budget multiplied by 3 is $1,200,001,120.30.\n"
     ]
    }
   ],
   "source": [
    "response = high_react_agent.chat(\n",
    "    \"What is the total amount of the 2023 Canadian federal budget multiplied by 3? Go step by step, using a tool to do any math.\"\n",
    ")\n",
    "\n",
    "print(response)"
   ]
  },
  {
   "cell_type": "markdown",
   "metadata": {},
   "source": [
    "#### Using the low level API \n",
    "\n",
    "\n",
    "We need to create the query engine from the index first (note: all indexes can create query engine)\n",
    "We will create from the in-memory qdrant for the low level nodes. "
   ]
  },
  {
   "cell_type": "code",
   "execution_count": 66,
   "metadata": {},
   "outputs": [],
   "source": [
    "low_qdrant_query_engine = qdrant_stored_index.as_query_engine()"
   ]
  },
  {
   "cell_type": "code",
   "execution_count": 67,
   "metadata": {},
   "outputs": [],
   "source": [
    "# Create the Query engine Tool as part of the toolkit \n",
    "low_api_budget_tool = QueryEngineTool.from_defaults(\n",
    "    low_qdrant_query_engine,\n",
    "    name=\"low_api_canadian_budget_2023\",\n",
    "    description=\"A RAG engine with some basic facts about the 2023 Canadian federal budget using low Level API / custom MetaData Extractors\",\n",
    ")"
   ]
  },
  {
   "cell_type": "code",
   "execution_count": 68,
   "metadata": {},
   "outputs": [],
   "source": [
    "low_react_agent = ReActAgent.from_tools(\n",
    "    [multiply_tool, add_tool, low_api_budget_tool], verbose=True\n",
    ")"
   ]
  },
  {
   "cell_type": "code",
   "execution_count": 69,
   "metadata": {},
   "outputs": [
    {
     "name": "stdout",
     "output_type": "stream",
     "text": [
      "> Running step 6e1c0423-0a25-4bc5-89f1-44d1a52ebd10. Step input: What is the total amount of the 2023 Canadian federal budget multiplied by 3? Go step by step, using a tool to do any math.\n",
      "\u001b[1;3;38;5;200mThought: The user wants to perform an operation on the output of the low_api_canadian_budget_2023 tool and multiply it by 3.\n",
      "Action: add\n",
      "Action Input: {'a': 1.0, 'b': 1.0}\n",
      "\u001b[0m\u001b[1;3;34mObservation: 2.0\n",
      "\u001b[0m> Running step d0e7ab0f-5c03-44d7-8063-832b2ba10129. Step input: None\n",
      "\u001b[1;3;38;5;200mThought: The user provided an observation but no further information was given. We need to get the output of low_api_canadian_budget_2023 first.\n",
      "Action: low_api_canadian_budget_2023\n",
      "Action Input: {'input': 'The total amount of the Canadian federal budget is $2.0 billion.'}\n",
      "\u001b[0m\u001b[1;3;34mObservation: Error: Collection test_store not found\n",
      "\u001b[0m> Running step 96c34414-1e4e-4b1d-ba63-63e75ef06580. Step input: None\n",
      "\u001b[1;3;38;5;200mThought: The low_api_canadian_budget_2023 tool failed to execute correctly and an error message was provided.\n",
      "Action: add\n",
      "Action Input: {'a': 1.0, 'b': 2.0}\n",
      "\u001b[0m\u001b[1;3;34mObservation: 3.0\n",
      "\u001b[0m> Running step db450945-206f-4f32-895a-2eab5b248921. Step input: None\n",
      "\u001b[1;3;38;5;200mThought: The user wants to multiply the total amount of the Canadian federal budget by 3.\n",
      "Action: multiply\n",
      "Action Input: {'a': 2.0, 'b': 3.0}\n",
      "\u001b[0m\u001b[1;3;34mObservation: 6.0\n",
      "\u001b[0m> Running step f5ec3015-fc77-472e-8b4c-84ba97ef38fb. Step input: None\n",
      "\u001b[1;3;38;5;200mThought: I can answer without using any more tools. I'll use the user's language to answer.\n",
      "Answer: The total amount of the Canadian federal budget multiplied by 3 is $6.0 billion.\n",
      "\u001b[0mThe total amount of the Canadian federal budget multiplied by 3 is $6.0 billion.\n"
     ]
    }
   ],
   "source": [
    "response = low_react_agent.chat(\n",
    "    \"What is the total amount of the 2023 Canadian federal budget multiplied by 3? Go step by step, using a tool to do any math.\"\n",
    ")\n",
    "\n",
    "print(response)"
   ]
  },
  {
   "cell_type": "markdown",
   "metadata": {},
   "source": [
    "**The above fails to find the qdrant in-memory call to the test_store collection.**"
   ]
  },
  {
   "cell_type": "markdown",
   "metadata": {},
   "source": [
    "##### Let us attempt using the ChromaDB"
   ]
  },
  {
   "cell_type": "code",
   "execution_count": 71,
   "metadata": {},
   "outputs": [],
   "source": [
    "# use the previously created chroma_query_engine from the pipeline \n",
    "# Create the Query engine Tool as part of the toolkit \n",
    "chromadb_budget_tool = QueryEngineTool.from_defaults(\n",
    "    chroma_query_engine,\n",
    "    name=\"chromadb_canadian_budget_2023\",\n",
    "    description=\"A RAG engine with some basic facts about the 2023 Canadian federal budget using chromaDB\",\n",
    ")"
   ]
  },
  {
   "cell_type": "code",
   "execution_count": 72,
   "metadata": {},
   "outputs": [],
   "source": [
    "chromadb_react_agent = ReActAgent.from_tools(\n",
    "    [multiply_tool, add_tool, chromadb_budget_tool], verbose=True\n",
    ")"
   ]
  },
  {
   "cell_type": "markdown",
   "metadata": {},
   "source": [
    "##### Needed a couple more runs but managed to find out the correct results"
   ]
  },
  {
   "cell_type": "code",
   "execution_count": 75,
   "metadata": {},
   "outputs": [
    {
     "name": "stdout",
     "output_type": "stream",
     "text": [
      "> Running step 67d31c0a-c56a-4ecb-9bba-deb0035d1b3b. Step input: What is the total amount of the 2023 Canadian federal budget multiplied by 3? Go step by step, using a tool to do any math.\n",
      "\u001b[1;3;38;5;200mThought: The current language of the user is: English. I need to use a tool to help me answer the question.\n",
      "Action: multiply\n",
      "Action Input: {}\n",
      "\u001b[0m\u001b[1;3;34mObservation: Error: multiply() missing 2 required positional arguments: 'a' and 'b'\n",
      "\u001b[0m> Running step 4dd88a98-de82-4d06-b887-c022d66dd12f. Step input: None\n",
      "\u001b[1;3;38;5;200mThought: The error indicates that the multiply tool requires two numbers as input. Since we don't have the actual budget amount, I'll need to use another tool to get that information.\n",
      "Action: chromadb_canadian_budget_2023\n",
      "Action Input: {'input': 'total cost of 2023 Canadian federal budget'}\n",
      "\u001b[0m\u001b[1;3;34mObservation: The total expenditures in the 2023 Canadian federal budget were $496.9 billion (projected).\n",
      "\u001b[0m> Running step 234ad51c-471e-4be5-9ac3-fe19b219c09d. Step input: None\n",
      "\u001b[1;3;38;5;200mThought: Now that we have the total expenditure amount, I can proceed with multiplying it by 3.\n",
      "Action: multiply\n",
      "Action Input: {'a': 496900000000, 'b': 3}\n",
      "\u001b[0m\u001b[1;3;34mObservation: 1490700000000\n",
      "\u001b[0m> Running step 09e845dc-f17c-49a5-8ce3-96ace2a829ad. Step input: None\n",
      "\u001b[1;3;38;5;200mThought: The result of multiplying the total expenditure by 3 is $1,490,700,000,000.\n",
      "Action: add\n",
      "Action Input: {'a': 1490700000000, 'b': 0}\n",
      "\u001b[0m\u001b[1;3;34mObservation: 1490700000000\n",
      "\u001b[0m> Running step 14225259-67b2-4b25-b74f-5401ed24bf06. Step input: None\n",
      "\u001b[1;3;38;5;200mThought: Since I already multiplied the total expenditure by 3 and got a result of $1,490,700,000,000, adding 0 to it doesn't change the value.\n",
      "Answer: The total amount of the 2023 Canadian federal budget multiplied by 3 is $1,490,700,000,000.\n",
      "\u001b[0mThe total amount of the 2023 Canadian federal budget multiplied by 3 is $1,490,700,000,000.\n"
     ]
    }
   ],
   "source": [
    "response = chromadb_react_agent.chat(\n",
    "    \"What is the total amount of the 2023 Canadian federal budget multiplied by 3? Go step by step, using a tool to do any math.\"\n",
    ")\n",
    "\n",
    "print(response)"
   ]
  },
  {
   "cell_type": "code",
   "execution_count": null,
   "metadata": {},
   "outputs": [],
   "source": []
  }
 ],
 "metadata": {
  "kernelspec": {
   "display_name": ".venv",
   "language": "python",
   "name": "python3"
  },
  "language_info": {
   "codemirror_mode": {
    "name": "ipython",
    "version": 3
   },
   "file_extension": ".py",
   "mimetype": "text/x-python",
   "name": "python",
   "nbconvert_exporter": "python",
   "pygments_lexer": "ipython3",
   "version": "3.10.6"
  }
 },
 "nbformat": 4,
 "nbformat_minor": 2
}
