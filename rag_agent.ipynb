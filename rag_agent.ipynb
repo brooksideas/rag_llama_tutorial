{
 "cells": [
  {
   "cell_type": "markdown",
   "metadata": {},
   "source": [
    "## This is the tutorial from the llama Index official docs"
   ]
  },
  {
   "cell_type": "markdown",
   "metadata": {},
   "source": [
    "#### The defualt Global Setting"
   ]
  },
  {
   "cell_type": "code",
   "execution_count": null,
   "metadata": {},
   "outputs": [
    {
     "name": "stderr",
     "output_type": "stream",
     "text": [
      "/home/brooks/rag_llama_index/.venv/lib/python3.10/site-packages/tqdm/auto.py:21: TqdmWarning: IProgress not found. Please update jupyter and ipywidgets. See https://ipywidgets.readthedocs.io/en/stable/user_install.html\n",
      "  from .autonotebook import tqdm as notebook_tqdm\n"
     ]
    }
   ],
   "source": [
    "from llama_index.core import Settings\n",
    "from llama_index.llms.ollama import Ollama\n",
    "from llama_index.embeddings.huggingface import HuggingFaceEmbedding\n",
    "\n",
    "Settings.llm = Ollama(model=\"llama3.2\", request_timeout=60.0)\n",
    "Settings.embed_model = HuggingFaceEmbedding(\n",
    "    model_name=\"BAAI/bge-small-en-v1.5\"\n",
    ") # loads BAAI/bge-small-en-v1.5 as the default embedding model instead of Open-AI"
   ]
  },
  {
   "cell_type": "markdown",
   "metadata": {},
   "source": [
    "#### Ingestion pipeline typically consists of three main stages:\n",
    "\n",
    "1. Load the data\n",
    "2. Transform the data\n",
    "3. Index and store the data"
   ]
  },
  {
   "cell_type": "markdown",
   "metadata": {},
   "source": [
    "### 1.1 Loading using SimpleDirectoryReader "
   ]
  },
  {
   "cell_type": "code",
   "execution_count": 3,
   "metadata": {},
   "outputs": [],
   "source": [
    "from llama_index.core import SimpleDirectoryReader\n",
    "\n",
    "documents = SimpleDirectoryReader(\"./data\").load_data()"
   ]
  },
  {
   "cell_type": "markdown",
   "metadata": {},
   "source": [
    "### 1.2 Transform the data \n",
    "\n",
    "Transformations include chunking, extracting metadata, and embedding each chunk.\n",
    "\n",
    "This is necessary to make sure that the data can be retrieved, and used optimally by the LLM."
   ]
  },
  {
   "cell_type": "markdown",
   "metadata": {},
   "source": [
    "#### High-Level Transformation API"
   ]
  },
  {
   "cell_type": "code",
   "execution_count": null,
   "metadata": {},
   "outputs": [
    {
     "data": {
      "text/plain": [
       "<llama_index.core.query_engine.retriever_query_engine.RetrieverQueryEngine at 0x7fde5a11d780>"
      ]
     },
     "execution_count": 8,
     "metadata": {},
     "output_type": "execute_result"
    }
   ],
   "source": [
    "from llama_index.core import VectorStoreIndex\n",
    "\n",
    "vector_index = VectorStoreIndex.from_documents(documents)\n",
    "vector_index.as_query_engine()  # uses BAAI/bge-small-en-v1.5 or whatever is set on the settings default"
   ]
  },
  {
   "cell_type": "markdown",
   "metadata": {},
   "source": [
    "#### Lower-Level Transformation API"
   ]
  },
  {
   "cell_type": "markdown",
   "metadata": {},
   "source": [
    "##### Splitting Your Documents into Nodes"
   ]
  },
  {
   "cell_type": "code",
   "execution_count": null,
   "metadata": {},
   "outputs": [],
   "source": [
    "from llama_index.core import SimpleDirectoryReader\n",
    "from llama_index.core.ingestion import IngestionPipeline\n",
    "from llama_index.core.node_parser import TokenTextSplitter\n",
    "\n",
    "documents = SimpleDirectoryReader(\"./data\").load_data()\n",
    "\n",
    "# https://docs.llamaindex.ai/en/stable/module_guides/loading/node_parsers/modules/#tokentextsplitter\n",
    "pipeline = IngestionPipeline(transformations=[TokenTextSplitter()])\n",
    "\n",
    "nodes = pipeline.run(documents=documents)\n",
    "\n",
    "nodes  # If you see the text section of each node it is splitting it per page "
   ]
  },
  {
   "cell_type": "markdown",
   "metadata": {},
   "source": [
    "##### Adding Metadata"
   ]
  },
  {
   "cell_type": "code",
   "execution_count": null,
   "metadata": {},
   "outputs": [
    {
     "data": {
      "text/plain": [
       "{'page_label': '1',\n",
       " 'file_name': '2023_canadian_budget.pdf',\n",
       " 'file_path': '/home/brooks/rag_llama_index/rag_llama_tutorial/data/2023_canadian_budget.pdf',\n",
       " 'file_type': 'application/pdf',\n",
       " 'file_size': 376126,\n",
       " 'creation_date': '2024-11-05',\n",
       " 'last_modified_date': '2024-11-05',\n",
       " 'document_title': 'Based on the provided context, I would suggest the following comprehensive title:\\n\\n\"Key Components and Measures of the 2023 Canadian Federal Budget\"\\n\\nThis title accurately captures the essence of the context, highlighting the unique entities (e.g., budget, government, Prime Minister), themes (e.g., policy objectives, investments in green growth, dental care program), and other relevant information. It is clear, concise, and informative, making it suitable for a document that aims to provide an overview of the 2023 Canadian Federal Budget.',\n",
       " 'questions_this_excerpt_can_answer': \"Based on the provided context, here are three questions with specific answers that are unlikely to be found elsewhere:\\n\\n1. What was a notable aspect of the 2023 Canadian federal budget's emphasis on promoting green growth, in light of Canada's relationship with its southern neighbor?\\n\\nAnswer: The budget included $20B for a new 15% refundable tax credit to promote investment in green technologies.\\n\\n2. How much funding was allocated by the budget for the implementation of a means-tested dental care program, which originated from the NDP-Liberal deal of 2022?\\n\\nAnswer: $13B was allocated for the implementation of the means-tested dental care program.\\n\\n3. What milestone did the budget achieve on June 22, 2023, marking the completion of its passage through Parliament?\\n\\nAnswer: All parts of the budget received Royal assent on June 22, 2023, and became law.\\n\\nThese questions tap into specific details within the context that are not easily found elsewhere, highlighting the budget's focus on green growth, dental care, and its legislative milestones.\"}"
      ]
     },
     "execution_count": 18,
     "metadata": {},
     "output_type": "execute_result"
    }
   ],
   "source": [
    "nodes[0].metadata\n",
    "\n",
    "### OUTPUTS \n",
    "metadata={\n",
    "    'page_label': '1',\n",
    "     'file_name': '2023_canadian_budget.pdf',\n",
    "     'file_path': '/home/brooks/rag_llama_index/rag_llama_tutorial/data/2023_canadian_budget.pdf',\n",
    "     'file_type': 'application/pdf',\n",
    "     'file_size': 376126,\n",
    "     'creation_date': '2024-11-05',\n",
    "     'last_modified_date': '2024-11-05'\n",
    "     }"
   ]
  },
  {
   "cell_type": "code",
   "execution_count": null,
   "metadata": {},
   "outputs": [],
   "source": [
    "import asyncio # This is an asyncio case\n",
    "\n",
    "### These are the MetaData Extractors \n",
    "from llama_index.core.extractors import (\n",
    "    TitleExtractor,\n",
    "    QuestionsAnsweredExtractor,\n",
    ")\n",
    "from llama_index.core.node_parser import TokenTextSplitter\n",
    "\n",
    "text_splitter = TokenTextSplitter(\n",
    "    separator=\" \", chunk_size=512, chunk_overlap=128\n",
    ")\n",
    "title_extractor = TitleExtractor(nodes=4)\n",
    "qa_extractor = QuestionsAnsweredExtractor(questions=3)\n",
    "\n",
    "from llama_index.core.ingestion import IngestionPipeline\n",
    "\n",
    "pipeline = IngestionPipeline(\n",
    "    transformations=[text_splitter, title_extractor, qa_extractor]\n",
    ")\n",
    "\n",
    "# Use 'await' to run the asynchronous 'arun' method\n",
    "nodes = await pipeline.arun(\n",
    "    documents=documents,\n",
    "    in_place=True,\n",
    "    show_progress=True,\n",
    ")\n",
    "\n",
    "nodes"
   ]
  },
  {
   "cell_type": "code",
   "execution_count": null,
   "metadata": {},
   "outputs": [
    {
     "data": {
      "text/plain": [
       "{'page_label': '1',\n",
       " 'file_name': '2023_canadian_budget.pdf',\n",
       " 'file_path': '/home/brooks/rag_llama_index/rag_llama_tutorial/data/2023_canadian_budget.pdf',\n",
       " 'file_type': 'application/pdf',\n",
       " 'file_size': 376126,\n",
       " 'creation_date': '2024-11-05',\n",
       " 'last_modified_date': '2024-11-05',\n",
       " 'document_title': 'Based on the provided context, I would suggest the following comprehensive title:\\n\\n\"Key Components and Measures of the 2023 Canadian Federal Budget\"\\n\\nThis title accurately captures the essence of the context, highlighting the unique entities (e.g., budget, government, Prime Minister), themes (e.g., policy objectives, investments in green growth, dental care program), and other relevant information. It is clear, concise, and informative, making it suitable for a document that aims to provide an overview of the 2023 Canadian Federal Budget.',\n",
       " 'questions_this_excerpt_can_answer': 'Based on the provided context, here are three potential questions with specific answers that are unlikely to be found elsewhere:\\n\\n1. What is the estimated total amount of net new spending in the 2023 Canadian Federal Budget over a six-year period?\\n\\nAnswer: $43B\\n\\n2. How much funding was allocated for a means-tested dental care program as part of the budget, and when did its rollout begin?\\n\\nAnswer: $13B, with the Canadian Dental Care Plan beginning rollout in December 2023.\\n\\n3. What is the amount of the new tax on stock buybacks introduced by Freeland as part of the budget, and what percentage increase was seen in funding for Canada Student Grants?\\n\\nAnswer: A new tax of 2% on stock buybacks, with a 40% increase in funding for Canada Student Grants.\\n\\nThese questions are specific to the context provided and are unlikely to be found elsewhere. They require careful reading and analysis of the text to arrive at the correct answers.'}"
      ]
     },
     "execution_count": 16,
     "metadata": {},
     "output_type": "execute_result"
    }
   ],
   "source": [
    "nodes[1].metadata  # Includes the document_title and question_this_excerpt_can_answer"
   ]
  },
  {
   "cell_type": "markdown",
   "metadata": {},
   "source": [
    "##### Adding Embeddings"
   ]
  },
  {
   "cell_type": "code",
   "execution_count": null,
   "metadata": {},
   "outputs": [
    {
     "data": {
      "text/plain": [
       "384"
      ]
     },
     "execution_count": 26,
     "metadata": {},
     "output_type": "execute_result"
    }
   ],
   "source": [
    "embedding_test = Settings.embed_model.get_text_embedding(\n",
    "    \"It is raining cats and dogs here!\"\n",
    ")\n",
    "# https://huggingface.co/BAAI/bge-small-en-v1.5   it is 384 dimensions here \n",
    "len(embedding_test)"
   ]
  },
  {
   "cell_type": "markdown",
   "metadata": {},
   "source": [
    "##### Embedding Stored in VectorStoreIndex using pipeline"
   ]
  },
  {
   "cell_type": "markdown",
   "metadata": {},
   "source": [
    "##### Qdrant Vector Store Implementation"
   ]
  },
  {
   "cell_type": "code",
   "execution_count": null,
   "metadata": {},
   "outputs": [],
   "source": [
    "# Make sure all the dependencies have been installed"
   ]
  },
  {
   "cell_type": "code",
   "execution_count": 27,
   "metadata": {},
   "outputs": [
    {
     "name": "stderr",
     "output_type": "stream",
     "text": [
      "/home/brooks/rag_llama_index/.venv/lib/python3.10/site-packages/pydantic/_internal/_core_utils.py:570: RuntimeWarning: coroutine 'BaseExtractor.aprocess_nodes' was never awaited\n",
      "  return _validate_core_schema(schema)\n",
      "RuntimeWarning: Enable tracemalloc to get the object allocation traceback\n",
      "Parsing nodes: 100%|██████████| 4/4 [00:00<00:00, 123.38it/s]\n",
      "100%|██████████| 2/2 [00:06<00:00,  3.13s/it]\n",
      "100%|██████████| 1/1 [00:01<00:00,  1.66s/it]\n",
      "100%|██████████| 3/3 [00:03<00:00,  1.13s/it]\n",
      "100%|██████████| 2/2 [00:03<00:00,  1.61s/it]\n",
      "100%|██████████| 8/8 [00:19<00:00,  2.44s/it]\n"
     ]
    }
   ],
   "source": [
    "import asyncio # This is an asyncio case\n",
    "\n",
    "### These are the MetaData Extractors \n",
    "from llama_index.core.extractors import (\n",
    "    TitleExtractor,\n",
    "    QuestionsAnsweredExtractor,\n",
    ")\n",
    "# Text splitter for the document \n",
    "from llama_index.core.node_parser import TokenTextSplitter\n",
    "# The Ingestion pipeline \n",
    "from llama_index.core.ingestion import IngestionPipeline\n",
    "\n",
    "# Vector store to store our low level created embeddings \n",
    "from llama_index.vector_stores.qdrant import QdrantVectorStore\n",
    "\n",
    "import qdrant_client \n",
    "\n",
    "from llama_index.core import VectorStoreIndex\n",
    "\n",
    "# you can use :memory: mode for fast and light-weight experiments, No deployment req.\n",
    "client = qdrant_client.QdrantClient(location=\":memory:\")\n",
    "vector_qdrant_store = QdrantVectorStore(client=client, collection_name=\"test_store\")\n",
    "\n",
    "text_splitter = TokenTextSplitter(\n",
    "    separator=\" \", chunk_size=512, chunk_overlap=128\n",
    ")\n",
    "title_extractor = TitleExtractor(nodes=4)\n",
    "qa_extractor = QuestionsAnsweredExtractor(questions=3)\n",
    "\n",
    "\n",
    "\n",
    "pipeline = IngestionPipeline(\n",
    "    name=\"ETL and Qdrant Store pipeline\",\n",
    "    transformations=[text_splitter, title_extractor, qa_extractor],\n",
    "    vector_store=vector_qdrant_store\n",
    ")\n",
    "\n",
    "# Use 'await' to run the asynchronous 'arun' method\n",
    "low_level_nodes = await pipeline.arun(\n",
    "    documents=documents,\n",
    "    in_place=True,\n",
    "    show_progress=True,\n",
    ")\n",
    "\n",
    "qdrant_stored_index = VectorStoreIndex.from_vector_store(vector_qdrant_store)"
   ]
  },
  {
   "cell_type": "markdown",
   "metadata": {},
   "source": [
    "##### View the Indices stored in Low-level API custom stored"
   ]
  },
  {
   "cell_type": "code",
   "execution_count": 29,
   "metadata": {},
   "outputs": [
    {
     "name": "stdout",
     "output_type": "stream",
     "text": [
      "777fa0de-3357-4759-8a79-b2699ab789eb\n",
      "334f722a-fa7f-44e9-b8ab-0cecf2f62166\n",
      "b27e25df-bc1b-4de1-906b-16bc744cbf60\n",
      "ed4dec14-e665-4f9b-af28-0d12904c006f\n",
      "fa9ea975-db7a-49db-b011-d7d972eb46a1\n",
      "aa18f65d-a700-4a33-a926-b320173000a1\n",
      "0f4d7d4a-1450-4426-ac01-2401590d3504\n",
      "6197071e-0d55-467c-921f-87e74e32f193\n"
     ]
    }
   ],
   "source": [
    "# Print the Nodes Directly\n",
    "for node in low_level_nodes:\n",
    "    print(node.id_)"
   ]
  },
  {
   "cell_type": "code",
   "execution_count": null,
   "metadata": {},
   "outputs": [
    {
     "name": "stdout",
     "output_type": "stream",
     "text": [
      "Node ID: 777fa0de-3357-4759-8a79-b2699ab789eb\n",
      "Text: ‹ 2022 2024›2023 budget of the Canadian federal government\n",
      "Submitted 28 March 2023 Presented 28 March 2023 Parliament 44th Party\n",
      "Liberal Finance ministerChrystia Freeland Total revenue$456.8 billion\n",
      "(projected) Total expenditures$496.9 billion (projected) Deﬁcit $40.1\n",
      "billion (projected)[ 1 ] GDP TBA Website 2023 Budget (http\n",
      "s://www.budget.can ...\n"
     ]
    }
   ],
   "source": [
    "print(qdrant_stored_index._get_node_with_embedding(low_level_nodes)[0])  # Displaying only the first index (you can see the node id above as well)"
   ]
  },
  {
   "cell_type": "markdown",
   "metadata": {},
   "source": [
    "##### See what has been by the high level Transformation API   "
   ]
  },
  {
   "cell_type": "code",
   "execution_count": 42,
   "metadata": {},
   "outputs": [
    {
     "name": "stdout",
     "output_type": "stream",
     "text": [
      "6e9143f6-288e-449b-99fc-bfed45757dae\n",
      "6d57812b-c448-44ae-a6b7-a29d47483251\n",
      "9bd1528a-a1bd-4a16-87f4-6b21e9f96abc\n",
      "072dd4bb-f8fb-4c66-9c7b-ba4305e7cc0d\n",
      "82210f6a-132d-47eb-b32d-bb3d3bd48c9c\n",
      "b1d85874-f0e1-45be-93ef-cd389445cba6\n",
      "13ad8f3d-d0ee-4dc9-946f-25749c9d470b\n",
      "1eb9f8e6-e44a-4092-baee-53cdf46a4ceb\n"
     ]
    }
   ],
   "source": [
    "# Print the Nodes Directly\n",
    "for node in nodes:\n",
    "    print(node.id_)"
   ]
  },
  {
   "cell_type": "code",
   "execution_count": 41,
   "metadata": {},
   "outputs": [
    {
     "name": "stdout",
     "output_type": "stream",
     "text": [
      "Node ID: 6e9143f6-288e-449b-99fc-bfed45757dae\n",
      "Text: ‹ 2022 2024›2023 budget of the Canadian federal government\n",
      "Submitted 28 March 2023 Presented 28 March 2023 Parliament 44th Party\n",
      "Liberal Finance ministerChrystia Freeland Total revenue$456.8 billion\n",
      "(projected) Total expenditures$496.9 billion (projected) Deﬁcit $40.1\n",
      "billion (projected)[ 1 ] GDP TBA Website 2023 Budget (http\n",
      "s://www.budget.can ...\n"
     ]
    }
   ],
   "source": [
    "print(vector_index._get_node_with_embedding(nodes)[0])"
   ]
  },
  {
   "cell_type": "code",
   "execution_count": null,
   "metadata": {},
   "outputs": [],
   "source": []
  }
 ],
 "metadata": {
  "kernelspec": {
   "display_name": ".venv",
   "language": "python",
   "name": "python3"
  },
  "language_info": {
   "codemirror_mode": {
    "name": "ipython",
    "version": 3
   },
   "file_extension": ".py",
   "mimetype": "text/x-python",
   "name": "python",
   "nbconvert_exporter": "python",
   "pygments_lexer": "ipython3",
   "version": "3.10.6"
  }
 },
 "nbformat": 4,
 "nbformat_minor": 2
}
